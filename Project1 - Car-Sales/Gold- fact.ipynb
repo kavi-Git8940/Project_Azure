{
 "cells": [
  {
   "cell_type": "markdown",
   "metadata": {
    "application/vnd.databricks.v1+cell": {
     "cellMetadata": {},
     "inputWidgets": {},
     "nuid": "da7b4150-bc7c-4441-9bbe-cc2cbe684cef",
     "showTitle": false,
     "tableResultSettingsMap": {},
     "title": ""
    }
   },
   "source": [
    "### CREATE FACT TABLE"
   ]
  },
  {
   "cell_type": "markdown",
   "metadata": {
    "application/vnd.databricks.v1+cell": {
     "cellMetadata": {},
     "inputWidgets": {},
     "nuid": "9252486e-2350-43ea-9f9a-834b02421ece",
     "showTitle": false,
     "tableResultSettingsMap": {},
     "title": ""
    }
   },
   "source": [
    "**Read Silver data**"
   ]
  },
  {
   "cell_type": "code",
   "execution_count": 0,
   "metadata": {
    "application/vnd.databricks.v1+cell": {
     "cellMetadata": {
      "byteLimit": 2048000,
      "implicitDf": true,
      "rowLimit": 10000
     },
     "inputWidgets": {},
     "nuid": "742a9665-b995-4449-8b3b-2fd12b42697c",
     "showTitle": false,
     "tableResultSettingsMap": {},
     "title": ""
    }
   },
   "outputs": [],
   "source": [
    "df_silver = spark.sql(\n",
    "    \"select * from parquet.`abfss://silver@azureproject8940.dfs.core.windows.net/carsales`\"\n",
    ")"
   ]
  },
  {
   "cell_type": "code",
   "execution_count": 0,
   "metadata": {
    "application/vnd.databricks.v1+cell": {
     "cellMetadata": {
      "byteLimit": 2048000,
      "rowLimit": 10000
     },
     "inputWidgets": {},
     "nuid": "1e5ceaec-253c-44ad-aca2-a8859b764cee",
     "showTitle": false,
     "tableResultSettingsMap": {},
     "title": ""
    }
   },
   "outputs": [],
   "source": [
    "df_silver.display()"
   ]
  },
  {
   "cell_type": "markdown",
   "metadata": {
    "application/vnd.databricks.v1+cell": {
     "cellMetadata": {},
     "inputWidgets": {},
     "nuid": "da918252-4216-4181-a92d-c1df582cb0b9",
     "showTitle": false,
     "tableResultSettingsMap": {},
     "title": ""
    }
   },
   "source": [
    "**Read all the DIM Tables**"
   ]
  },
  {
   "cell_type": "code",
   "execution_count": 0,
   "metadata": {
    "application/vnd.databricks.v1+cell": {
     "cellMetadata": {
      "byteLimit": 2048000,
      "rowLimit": 10000
     },
     "inputWidgets": {},
     "nuid": "9a44f6c9-3108-4dc9-837a-ad1c246c7145",
     "showTitle": false,
     "tableResultSettingsMap": {},
     "title": ""
    }
   },
   "outputs": [],
   "source": [
    "df_dealer=spark.sql(\"select * from `car-sales-catalg`.gold.dim_dealer\")\n",
    "df_branch=spark.sql(\"select * from `car-sales-catalg`.gold.dim_branch\")\n",
    "df_date=spark.sql(\"select * from `car-sales-catalg`.gold.dim_date\")\n",
    "df_model=spark.sql(\"select * from `car-sales-catalg`.gold.dim_model\")\n",
    "                  "
   ]
  },
  {
   "cell_type": "markdown",
   "metadata": {
    "application/vnd.databricks.v1+cell": {
     "cellMetadata": {},
     "inputWidgets": {},
     "nuid": "1abbeb33-87ce-40cf-b5de-909847149e7d",
     "showTitle": false,
     "tableResultSettingsMap": {},
     "title": ""
    }
   },
   "source": [
    "**Bringing Key to Fact tables**"
   ]
  },
  {
   "cell_type": "code",
   "execution_count": 0,
   "metadata": {
    "application/vnd.databricks.v1+cell": {
     "cellMetadata": {
      "byteLimit": 2048000,
      "rowLimit": 10000
     },
     "inputWidgets": {},
     "nuid": "c4072113-d279-4007-90c9-555ff4812f75",
     "showTitle": false,
     "tableResultSettingsMap": {},
     "title": ""
    }
   },
   "outputs": [],
   "source": [
    "df_fact=df_silver.join(df_branch,df_silver['Branch_ID']==df_branch['Branch_ID'],how='left')\\\n",
    "                 .join(df_dealer,df_silver['Dealer_ID']==df_dealer['Dealer_ID'],how='left')\\\n",
    "                 .join(df_model,df_silver['Model_ID']==df_model['Model_ID'],how='left')\\\n",
    "                 .join(df_date,df_silver['Date_ID']==df_date['Date_ID'],how='left')\\\n",
    "                 .select(df_silver['Revenue'],df_silver['Units_Sold'],df_silver['Revene_Per_Unit'],df_branch['Dim_Branch_Key'],df_dealer['Dim_Dealer_Key'],df_model['Dim_Model_Key'],df_date['Dim_Date_Key'])"
   ]
  },
  {
   "cell_type": "code",
   "execution_count": 0,
   "metadata": {
    "application/vnd.databricks.v1+cell": {
     "cellMetadata": {
      "byteLimit": 2048000,
      "rowLimit": 10000
     },
     "inputWidgets": {},
     "nuid": "8635e46f-3f56-4bc3-9e56-0a328ef5f79e",
     "showTitle": false,
     "tableResultSettingsMap": {},
     "title": ""
    }
   },
   "outputs": [],
   "source": [
    "display(df_fact)"
   ]
  },
  {
   "cell_type": "markdown",
   "metadata": {
    "application/vnd.databricks.v1+cell": {
     "cellMetadata": {},
     "inputWidgets": {},
     "nuid": "ba7eb7b2-4378-42c3-9b64-6828958f81f1",
     "showTitle": false,
     "tableResultSettingsMap": {},
     "title": ""
    }
   },
   "source": [
    "#### Writing Fact Table"
   ]
  },
  {
   "cell_type": "code",
   "execution_count": 0,
   "metadata": {
    "application/vnd.databricks.v1+cell": {
     "cellMetadata": {
      "byteLimit": 2048000,
      "rowLimit": 10000
     },
     "inputWidgets": {},
     "nuid": "3a227dff-05c8-4bd4-ba97-058c7dc6859c",
     "showTitle": false,
     "tableResultSettingsMap": {},
     "title": ""
    }
   },
   "outputs": [],
   "source": [
    "from delta.tables import DeltaTable"
   ]
  },
  {
   "cell_type": "code",
   "execution_count": 0,
   "metadata": {
    "application/vnd.databricks.v1+cell": {
     "cellMetadata": {
      "byteLimit": 2048000,
      "rowLimit": 10000
     },
     "inputWidgets": {},
     "nuid": "a706fdc9-e4a1-4262-874a-a26e09873406",
     "showTitle": false,
     "tableResultSettingsMap": {},
     "title": ""
    }
   },
   "outputs": [],
   "source": [
    "if spark.catalog.tableExists(\"Factsalestbl\"):\n",
    "    deltatbl = DeltaTable.forName(spark, \"`car-sales-catalg`.gold.Factsalestbl\")\n",
    "    deltatbl.alias(\"trg\").merge(\n",
    "        df_fact.alias(\"src\"),\n",
    "        \"trg.Dim_Branch_Key=src.Dim_Branch_Key and trg.Dim_Dealer_Key=src.Dim_Dealer_Key and trg.Dim_Model_Key=src.Dim_Model_Key and trg.Dim_Date_Key=src.Dim_Date_Key\"\n",
    "    ).whenMatchedUpdateAll().whenNotMatchedInsertAll().execute()\n",
    "else:\n",
    "    df_fact.write.format(\"delta\").mode(\"overwrite\").option(\n",
    "        \"path\", \"abfss://gold@azureproject8940.dfs.core.windows.net/Factsalesdata\"\n",
    "    ).saveAsTable(\"`car-sales-catalg`.gold.Factsalestbl\")"
   ]
  },
  {
   "cell_type": "code",
   "execution_count": 0,
   "metadata": {
    "application/vnd.databricks.v1+cell": {
     "cellMetadata": {
      "byteLimit": 2048000,
      "implicitDf": true,
      "rowLimit": 10000
     },
     "inputWidgets": {},
     "nuid": "8a41c03a-7918-4ebe-b14a-a23a2ba3ae77",
     "showTitle": false,
     "tableResultSettingsMap": {},
     "title": ""
    }
   },
   "outputs": [],
   "source": [
    "%sql\n",
    "select * from `car-sales-catalg`.gold.Factsalestbl"
   ]
  }
 ],
 "metadata": {
  "application/vnd.databricks.v1+notebook": {
   "computePreferences": null,
   "dashboards": [],
   "environmentMetadata": {
    "base_environment": "",
    "environment_version": "2"
   },
   "inputWidgetPreferences": null,
   "language": "python",
   "notebookMetadata": {
    "mostRecentlyExecutedCommandWithImplicitDF": {
     "commandId": 4522211293612712,
     "dataframes": [
      "_sqldf"
     ]
    },
    "pythonIndentUnit": 4
   },
   "notebookName": "Gold- fact",
   "widgets": {}
  },
  "language_info": {
   "name": "python"
  }
 },
 "nbformat": 4,
 "nbformat_minor": 0
}

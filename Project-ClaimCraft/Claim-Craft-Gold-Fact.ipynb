{
 "cells": [
  {
   "cell_type": "markdown",
   "metadata": {
    "application/vnd.databricks.v1+cell": {
     "cellMetadata": {},
     "inputWidgets": {},
     "nuid": "7419b62a-ca56-42f4-9603-eb8813765db9",
     "showTitle": false,
     "tableResultSettingsMap": {},
     "title": ""
    }
   },
   "source": [
    "### CREATE FACT TABLE"
   ]
  },
  {
   "cell_type": "markdown",
   "metadata": {
    "application/vnd.databricks.v1+cell": {
     "cellMetadata": {},
     "inputWidgets": {},
     "nuid": "37c98e20-fff3-405e-836d-b1f37ff68662",
     "showTitle": false,
     "tableResultSettingsMap": {},
     "title": ""
    }
   },
   "source": [
    "**Read Silver data**"
   ]
  },
  {
   "cell_type": "code",
   "execution_count": 0,
   "metadata": {
    "application/vnd.databricks.v1+cell": {
     "cellMetadata": {
      "byteLimit": 2048000,
      "implicitDf": true,
      "rowLimit": 10000
     },
     "inputWidgets": {},
     "nuid": "8c1df3bf-affd-4a19-a67c-548ce812e767",
     "showTitle": false,
     "tableResultSettingsMap": {},
     "title": ""
    }
   },
   "outputs": [],
   "source": [
    "df_silver = spark.sql(\n",
    "    \"\"\"\n",
    "select * from parquet.`abfss://silver@claimcraftadls.dfs.core.windows.net/Claimcraft_Cleaned_data`\"\"\"\n",
    ")\n",
    "\n",
    "display(df_silver)"
   ]
  },
  {
   "cell_type": "markdown",
   "metadata": {
    "application/vnd.databricks.v1+cell": {
     "cellMetadata": {},
     "inputWidgets": {},
     "nuid": "7797b170-8128-4ee7-80b0-405f7fb46b9d",
     "showTitle": false,
     "tableResultSettingsMap": {},
     "title": ""
    }
   },
   "source": [
    "#### Read from all Dimension table"
   ]
  },
  {
   "cell_type": "code",
   "execution_count": 0,
   "metadata": {
    "application/vnd.databricks.v1+cell": {
     "cellMetadata": {
      "byteLimit": 2048000,
      "rowLimit": 10000
     },
     "inputWidgets": {},
     "nuid": "9f97e26e-213a-48fb-a6fe-895b4d67069e",
     "showTitle": false,
     "tableResultSettingsMap": {},
     "title": ""
    }
   },
   "outputs": [],
   "source": [
    "df_product = spark.sql(\"select * from `pharma_claim_craft`.claim_craft_gold.dim_product\")\n",
    "df_pharmacy = spark.sql(\"select * from `pharma_claim_craft`.claim_craft_gold.dim_pharmacy\")\n",
    "df_channel= spark.sql(\"select * from `pharma_claim_craft`.claim_craft_gold.dim_channel\")\n",
    "df_patient_zip = spark.sql(\"select * from `pharma_claim_craft`.claim_craft_gold.dim_patient_zip\")\n",
    "df_notes = spark.sql(\"select * from `pharma_claim_craft`.claim_craft_gold.dim_notes\")\n",
    "df_plan = spark.sql(\"select * from `pharma_claim_craft`.claim_craft_gold.dim_plan\")\n",
    "df_rep = spark.sql(\"select * from `pharma_claim_craft`.claim_craft_gold.dim_rep\")\n",
    "df_submission= spark.sql(\"select * from `pharma_claim_craft`.claim_craft_gold.dim_submission\")"
   ]
  },
  {
   "cell_type": "code",
   "execution_count": 0,
   "metadata": {
    "application/vnd.databricks.v1+cell": {
     "cellMetadata": {
      "byteLimit": 2048000,
      "rowLimit": 10000
     },
     "inputWidgets": {},
     "nuid": "1c56b097-5ad3-4057-8335-64418576237b",
     "showTitle": false,
     "tableResultSettingsMap": {},
     "title": ""
    }
   },
   "outputs": [],
   "source": [
    "df_fact = (\n",
    "    df_silver.join(\n",
    "        df_product, df_silver[\"Product_NDC\"] == df_product[\"Product_NDC\"], \"left\"\n",
    "    ).join(\n",
    "        df_pharmacy, df_silver[\"Pharmacy_Name\"] == df_pharmacy[\"Pharmacy_Name\"], \"left\"\n",
    "    ).join(\n",
    "        df_channel, df_silver[\"Channel\"] == df_channel[\"Channel\"], \"left\"\n",
    "    ).join(\n",
    "        df_notes, df_silver[\"Notes\"] == df_notes[\"Notes\"], \"left\"\n",
    "    ).join(\n",
    "        df_plan, \n",
    "        (df_silver[\"Plan_Type\"] == df_plan[\"Plan_Type\"]) & \n",
    "        (df_silver[\"Coverage_Status\"] == df_plan[\"Coverage_Status\"]) &\n",
    "        (df_silver[\"Prior_Auth\"] == df_plan[\"Prior_Auth\"]),\n",
    "        \"left\"\n",
    "    ).join(\n",
    "        df_submission, df_silver[\"Submission_Source\"] == df_submission[\"Submission_Source\"], \"left\"\n",
    "    ).join(\n",
    "        df_patient_zip, df_silver[\"Patient_Zip\"] == df_patient_zip[\"Patient_Zip\"], \"left\"\n",
    "    ).join(\n",
    "        df_rep,\n",
    "        (df_silver[\"Rep_ID\"] == df_rep[\"Rep_ID\"]) & \n",
    "        (df_silver[\"Territory\"] == df_rep[\"Territory\"]),\n",
    "        \"left\"\n",
    "    ).select(\n",
    "        df_silver[\"Claim_ID\"],\n",
    "        df_silver[\"Claim_Date\"],\n",
    "        df_silver[\"Copay_Amount\"],\n",
    "        df_silver[\"Billed_Amount\"],\n",
    "        df_silver[\"Paid_Amount\"],\n",
    "        df_silver[\"Duplicate_Claim\"],\n",
    "        df_silver[\"Total_Claim\"],\n",
    "        df_silver[\"Copay_Percentage\"],\n",
    "        df_silver[\"Outstanding_Amount\"],\n",
    "        df_silver[\"Duplicate_Flag\"],\n",
    "        df_product[\"Dim_Product_Key\"],\n",
    "        df_pharmacy[\"Dim_Pharmacy_Key\"],\n",
    "        df_channel[\"Dim_Channel_Key\"],\n",
    "        df_patient_zip[\"Dim_Patient_Key\"],\n",
    "        df_notes[\"Dim_Notes_Key\"],\n",
    "        df_plan[\"Dim_Plan_Key\"],\n",
    "        df_rep[\"Dim_Rep_Key\"],\n",
    "        df_submission[\"Dim_Submission_Key\"],\n",
    "    )\n",
    ")\n"
   ]
  },
  {
   "cell_type": "code",
   "execution_count": 0,
   "metadata": {
    "application/vnd.databricks.v1+cell": {
     "cellMetadata": {
      "byteLimit": 2048000,
      "rowLimit": 10000
     },
     "inputWidgets": {},
     "nuid": "8df8770a-196a-4fd6-9ce6-6fdddd01761c",
     "showTitle": false,
     "tableResultSettingsMap": {},
     "title": ""
    }
   },
   "outputs": [],
   "source": [
    "display(df_fact)"
   ]
  },
  {
   "cell_type": "markdown",
   "metadata": {
    "application/vnd.databricks.v1+cell": {
     "cellMetadata": {},
     "inputWidgets": {},
     "nuid": "225fb195-abb7-4cdc-8bba-7f0a96157335",
     "showTitle": false,
     "tableResultSettingsMap": {},
     "title": ""
    }
   },
   "source": [
    "#### Writing Fact Table"
   ]
  },
  {
   "cell_type": "code",
   "execution_count": 0,
   "metadata": {
    "application/vnd.databricks.v1+cell": {
     "cellMetadata": {
      "byteLimit": 2048000,
      "rowLimit": 10000
     },
     "inputWidgets": {},
     "nuid": "77e3dbc6-a11c-43e3-bdb4-d58423ef9e57",
     "showTitle": false,
     "tableResultSettingsMap": {},
     "title": ""
    }
   },
   "outputs": [],
   "source": [
    "from delta.tables import DeltaTable"
   ]
  },
  {
   "cell_type": "code",
   "execution_count": 0,
   "metadata": {
    "application/vnd.databricks.v1+cell": {
     "cellMetadata": {
      "byteLimit": 2048000,
      "rowLimit": 10000
     },
     "inputWidgets": {},
     "nuid": "ef330184-0db0-48c2-9397-24493637ad2b",
     "showTitle": false,
     "tableResultSettingsMap": {},
     "title": ""
    }
   },
   "outputs": [],
   "source": [
    "from delta.tables import DeltaTable\n",
    "\n",
    "if spark.catalog.tableExists(\"pharma_claim_craft.claim_craft_gold.fact_claimcraft\"):\n",
    "    deltatbl = DeltaTable.forName(\n",
    "        spark, \"pharma_claim_craft.claim_craft_gold.fact_claimcraft\"\n",
    "    )\n",
    "    deltatbl.alias(\"trg\").merge(\n",
    "        df_fact.alias(\"src\"),\n",
    "        \"trg.Dim_Product_Key=src.Dim_Product_Key AND trg.Dim_Pharmacy_Key=src.Dim_Pharmacy_Key AND trg.Dim_Channel_Key=src.Dim_Channel_Key AND trg.Dim_Patient_Key=src.Dim_Patient_Key AND trg.Dim_Notes_Key=src.Dim_Notes_Key AND trg.Dim_Plan_Key=src.Dim_Plan_Key AND trg.Dim_Rep_Key=src.Dim_Rep_Key AND trg.Dim_Submission_Key=src.Dim_Submission_Key\",\n",
    "    ).whenMatchedUpdateAll().whenNotMatchedInsertAll().execute()\n",
    "\n",
    "else:\n",
    "    df_fact.write.mode(\"overwrite\").format(\"delta\").option(\n",
    "        \"path\", \"abfss://gold@claimcraftadls.dfs.core.windows.net/fact_claimcraft\"\n",
    "    ).saveAsTable(\"pharma_claim_craft.claim_craft_gold.fact_claimcraft\")"
   ]
  },
  {
   "cell_type": "code",
   "execution_count": 0,
   "metadata": {
    "application/vnd.databricks.v1+cell": {
     "cellMetadata": {
      "byteLimit": 2048000,
      "implicitDf": true,
      "rowLimit": 10000
     },
     "inputWidgets": {},
     "nuid": "9dbbd390-fbc7-487b-b66d-3a69b99d86da",
     "showTitle": false,
     "tableResultSettingsMap": {},
     "title": ""
    }
   },
   "outputs": [],
   "source": [
    "%sql\n",
    "select * from `pharma_claim_craft`.claim_craft_gold.fact_claimcraft"
   ]
  }
 ],
 "metadata": {
  "application/vnd.databricks.v1+notebook": {
   "computePreferences": null,
   "dashboards": [],
   "environmentMetadata": {
    "base_environment": "",
    "environment_version": "2"
   },
   "inputWidgetPreferences": null,
   "language": "python",
   "notebookMetadata": {
    "mostRecentlyExecutedCommandWithImplicitDF": {
     "commandId": 7314512125102409,
     "dataframes": [
      "_sqldf"
     ]
    },
    "pythonIndentUnit": 4
   },
   "notebookName": "Claim-Craft-Gold-Fact",
   "widgets": {}
  },
  "language_info": {
   "name": "python"
  }
 },
 "nbformat": 4,
 "nbformat_minor": 0
}

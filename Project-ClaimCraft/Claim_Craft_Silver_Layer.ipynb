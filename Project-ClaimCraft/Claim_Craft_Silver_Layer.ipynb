{
 "cells": [
  {
   "cell_type": "markdown",
   "metadata": {
    "application/vnd.databricks.v1+cell": {
     "cellMetadata": {},
     "inputWidgets": {},
     "nuid": "983aa956-fdfb-4278-b953-22b1bf21a2a7",
     "showTitle": false,
     "tableResultSettingsMap": {},
     "title": ""
    }
   },
   "source": [
    "#### Data Reading\n",
    "\n",
    "**Read the Bronze data from ADLS and store in Dataframe**"
   ]
  },
  {
   "cell_type": "code",
   "execution_count": 0,
   "metadata": {
    "application/vnd.databricks.v1+cell": {
     "cellMetadata": {
      "byteLimit": 2048000,
      "rowLimit": 10000
     },
     "inputWidgets": {},
     "nuid": "64ffa4cc-12e4-426a-8beb-49c5de64e70d",
     "showTitle": false,
     "tableResultSettingsMap": {},
     "title": ""
    }
   },
   "outputs": [],
   "source": [
    "df_main = spark.read.format(\"parquet\").load(\n",
    "    \"abfss://bronze@claimcraftadls.dfs.core.windows.net/Raw\"\n",
    ")"
   ]
  },
  {
   "cell_type": "code",
   "execution_count": 0,
   "metadata": {
    "application/vnd.databricks.v1+cell": {
     "cellMetadata": {
      "byteLimit": 2048000,
      "rowLimit": 10000
     },
     "inputWidgets": {},
     "nuid": "bf9d0f39-5a87-4c28-9645-8411e799c44e",
     "showTitle": false,
     "tableResultSettingsMap": {},
     "title": ""
    }
   },
   "outputs": [],
   "source": [
    "display(df_main)"
   ]
  },
  {
   "cell_type": "markdown",
   "metadata": {
    "application/vnd.databricks.v1+cell": {
     "cellMetadata": {},
     "inputWidgets": {},
     "nuid": "2f8c8e4f-157e-4ab4-a56d-0cbfc06e6d99",
     "showTitle": false,
     "tableResultSettingsMap": {},
     "title": ""
    }
   },
   "source": [
    "**Write Bronze/Raw data to analyse the Data Quality in Dashboard <later>**"
   ]
  },
  {
   "cell_type": "code",
   "execution_count": 0,
   "metadata": {
    "application/vnd.databricks.v1+cell": {
     "cellMetadata": {
      "byteLimit": 2048000,
      "rowLimit": 10000
     },
     "inputWidgets": {},
     "nuid": "02d37122-3eb0-47c8-8581-8db1d3671cff",
     "showTitle": false,
     "tableResultSettingsMap": {},
     "title": ""
    }
   },
   "outputs": [],
   "source": [
    "df_main.write.mode(\"overwrite\").saveAsTable(\n",
    "    \"`Pharma_Claim_Craft`.Claim_craft_Bronze.bronze_raw_claimsdata\"\n",
    ")"
   ]
  },
  {
   "cell_type": "code",
   "execution_count": 0,
   "metadata": {
    "application/vnd.databricks.v1+cell": {
     "cellMetadata": {
      "byteLimit": 2048000,
      "implicitDf": true,
      "rowLimit": 10000
     },
     "inputWidgets": {},
     "nuid": "9cbf9ba3-c53f-4578-86c6-3424cf9c2020",
     "showTitle": false,
     "tableResultSettingsMap": {},
     "title": ""
    }
   },
   "outputs": [],
   "source": [
    "%sql\n",
    "select * from `Pharma_Claim_Craft`.claim_craft_bronze.bronze_raw_claimsdata"
   ]
  },
  {
   "cell_type": "markdown",
   "metadata": {
    "application/vnd.databricks.v1+cell": {
     "cellMetadata": {},
     "inputWidgets": {},
     "nuid": "cf0b0938-5e17-4555-85fd-5ff755498b6b",
     "showTitle": false,
     "tableResultSettingsMap": {},
     "title": ""
    }
   },
   "source": [
    "### Data Cleaning "
   ]
  },
  {
   "cell_type": "markdown",
   "metadata": {
    "application/vnd.databricks.v1+cell": {
     "cellMetadata": {},
     "inputWidgets": {},
     "nuid": "3a9b84f7-4c1f-4490-9094-145dd7e41ff9",
     "showTitle": false,
     "tableResultSettingsMap": {},
     "title": ""
    }
   },
   "source": [
    "**Type casting & Round off the value**"
   ]
  },
  {
   "cell_type": "code",
   "execution_count": 0,
   "metadata": {
    "application/vnd.databricks.v1+cell": {
     "cellMetadata": {
      "byteLimit": 2048000,
      "rowLimit": 10000
     },
     "inputWidgets": {},
     "nuid": "a5f69423-a38d-479b-a619-229f656e787e",
     "showTitle": false,
     "tableResultSettingsMap": {},
     "title": ""
    }
   },
   "outputs": [],
   "source": [
    "from pyspark.sql.functions import *\n",
    "from pyspark.sql.types import *\n",
    "from pyspark.sql.functions import to_date, col\n"
   ]
  },
  {
   "cell_type": "code",
   "execution_count": 0,
   "metadata": {
    "application/vnd.databricks.v1+cell": {
     "cellMetadata": {
      "byteLimit": 2048000,
      "rowLimit": 10000
     },
     "inputWidgets": {},
     "nuid": "d1716217-7a3f-4d57-bc34-4242ab765b01",
     "showTitle": false,
     "tableResultSettingsMap": {},
     "title": ""
    }
   },
   "outputs": [],
   "source": [
    "df_main = (\n",
    "    df_main.withColumn(\"Claim_Date\", to_date(col(\"Claim_Date\"),\"yyyy-MM-dd\"))\n",
    "    .withColumn(\"Copay_Amount\", round(col(\"Copay_Amount\").cast('double'),2))\n",
    "    .withColumn(\"Billed_Amount\",round(col(\"Billed_Amount\").cast('double'),2))\n",
    "    .withColumn(\"Paid_Amount\", round(col(\"Paid_Amount\").cast('double'),2))\n",
    ")\n",
    "display(df_main)"
   ]
  },
  {
   "cell_type": "markdown",
   "metadata": {
    "application/vnd.databricks.v1+cell": {
     "cellMetadata": {},
     "inputWidgets": {},
     "nuid": "acca7a88-0cd1-4db4-81da-0970728e72ea",
     "showTitle": false,
     "tableResultSettingsMap": {},
     "title": ""
    }
   },
   "source": [
    "**Normalise the value(Replace the unknown, '' to NULL)**"
   ]
  },
  {
   "cell_type": "code",
   "execution_count": 0,
   "metadata": {
    "application/vnd.databricks.v1+cell": {
     "cellMetadata": {
      "byteLimit": 2048000,
      "rowLimit": 10000
     },
     "inputWidgets": {},
     "nuid": "85c26488-f734-49a9-aaef-c07744e933e4",
     "showTitle": false,
     "tableResultSettingsMap": {},
     "title": ""
    }
   },
   "outputs": [],
   "source": [
    "\n",
    "df_main = df_main.na.fill(\n",
    "    {\n",
    "        \"Pharmacy_Name\": \"NULL\",\n",
    "        \"Coverage_Status\": \"NULL\",\n",
    "        \"Plan_Type\": \"NULL\",\n",
    "        \"Channel\": \"NULL\",\n",
    "        \"Territory\": \"NULL\",\n",
    "        \"Prior_Auth\": \"NULL\",\n",
    "        \"Duplicate_Claim\": \"NULL\",\n",
    "        \"Submission_Source\": \"NULL\",\n",
    "        \"Notes\": \"NULL\",\n",
    "    }\n",
    ")\n",
    "display(df_main)"
   ]
  },
  {
   "cell_type": "code",
   "execution_count": 0,
   "metadata": {
    "application/vnd.databricks.v1+cell": {
     "cellMetadata": {
      "byteLimit": 2048000,
      "rowLimit": 10000
     },
     "inputWidgets": {},
     "nuid": "7fccc423-d747-4a55-9147-aff5ac1e303d",
     "showTitle": false,
     "tableResultSettingsMap": {},
     "title": ""
    }
   },
   "outputs": [],
   "source": [
    "df_main = df_main.na.fill(\n",
    "    {\n",
    "        \"Copay_Amount\": 0,\n",
    "        \"Billed_Amount\": 0,\n",
    "        \"Paid_Amount\": 0\n",
    "    }\n",
    ")\n",
    "display(df_main)"
   ]
  },
  {
   "cell_type": "markdown",
   "metadata": {
    "application/vnd.databricks.v1+cell": {
     "cellMetadata": {},
     "inputWidgets": {},
     "nuid": "abb1f88c-483c-48df-a821-b52200b542f4",
     "showTitle": false,
     "tableResultSettingsMap": {},
     "title": ""
    }
   },
   "source": [
    "#### Drop Duplicate"
   ]
  },
  {
   "cell_type": "code",
   "execution_count": 0,
   "metadata": {
    "application/vnd.databricks.v1+cell": {
     "cellMetadata": {
      "byteLimit": 2048000,
      "rowLimit": 10000
     },
     "inputWidgets": {},
     "nuid": "f3f630eb-baee-43b8-ab88-2782c2c6e90d",
     "showTitle": false,
     "tableResultSettingsMap": {},
     "title": ""
    }
   },
   "outputs": [],
   "source": [
    "df_main=df_main.dropDuplicates(['Claim_ID'])\n",
    "df_main.count()\n"
   ]
  },
  {
   "cell_type": "markdown",
   "metadata": {
    "application/vnd.databricks.v1+cell": {
     "cellMetadata": {},
     "inputWidgets": {},
     "nuid": "eb8f2462-1f92-48b7-b97e-2d76ccd5fc7c",
     "showTitle": false,
     "tableResultSettingsMap": {},
     "title": ""
    }
   },
   "source": [
    "#### Calculation/Operations"
   ]
  },
  {
   "cell_type": "markdown",
   "metadata": {
    "application/vnd.databricks.v1+cell": {
     "cellMetadata": {},
     "inputWidgets": {},
     "nuid": "56331e68-07f0-4d1b-a60c-6326bcdbed34",
     "showTitle": false,
     "tableResultSettingsMap": {},
     "title": ""
    }
   },
   "source": [
    "**Calculate Total claims, Percentage, Outstanding difference,Set Flag**"
   ]
  },
  {
   "cell_type": "code",
   "execution_count": 0,
   "metadata": {
    "application/vnd.databricks.v1+cell": {
     "cellMetadata": {
      "byteLimit": 2048000,
      "rowLimit": 10000
     },
     "inputWidgets": {},
     "nuid": "8bc638ff-a128-4e47-b7b5-ac1eea4f6313",
     "showTitle": false,
     "tableResultSettingsMap": {},
     "title": ""
    }
   },
   "outputs": [],
   "source": [
    "df_main = (\n",
    "    df_main.withColumn(\"Total_Claim\", round(col(\"Copay_Amount\") + col(\"Paid_Amount\"),2))\n",
    "    .withColumn(\n",
    "        \"Copay_Percentage\", round((col(\"Copay_Amount\") / col(\"Billed_Amount\")) * 100, 2)\n",
    "    )\n",
    "    .withColumn(\"Outstanding_Amount\", round(col(\"Billed_Amount\") - col(\"Total_Claim\"), 2))\n",
    "    .withColumn(\n",
    "        \"Duplicate_Flag\",\n",
    "        when(col(\"Duplicate_Claim\") == \"Yes\", 1)\n",
    "        .otherwise(0)\n",
    "        .alias(\"Claim_Duplicate_Flag\"),\n",
    "    )\n",
    ")\n",
    "\n",
    "display(df_main)"
   ]
  },
  {
   "cell_type": "markdown",
   "metadata": {
    "application/vnd.databricks.v1+cell": {
     "cellMetadata": {},
     "inputWidgets": {},
     "nuid": "6a4141bc-ac1e-4b8f-b5e3-789f44b1e0c3",
     "showTitle": false,
     "tableResultSettingsMap": {},
     "title": ""
    }
   },
   "source": [
    "#### Null value cleanup and Write the Log"
   ]
  },
  {
   "cell_type": "markdown",
   "metadata": {
    "application/vnd.databricks.v1+cell": {
     "cellMetadata": {},
     "inputWidgets": {},
     "nuid": "0961b9d2-9aa0-4b75-b68f-a1055fda4a4b",
     "showTitle": false,
     "tableResultSettingsMap": {},
     "title": ""
    }
   },
   "source": [
    "**This is to learn how to log /metrics -To capture in Observability dashboard**"
   ]
  },
  {
   "cell_type": "code",
   "execution_count": 0,
   "metadata": {
    "application/vnd.databricks.v1+cell": {
     "cellMetadata": {
      "byteLimit": 2048000,
      "rowLimit": 10000
     },
     "inputWidgets": {},
     "nuid": "1e049d1f-1393-47fa-9dda-a009be10899d",
     "showTitle": false,
     "tableResultSettingsMap": {},
     "title": ""
    }
   },
   "outputs": [],
   "source": [
    "from pyspark.sql.functions import col, round\n",
    "from pyspark.sql.functions import current_timestamp\n",
    "from datetime import datetime\n"
   ]
  },
  {
   "cell_type": "code",
   "execution_count": 0,
   "metadata": {
    "application/vnd.databricks.v1+cell": {
     "cellMetadata": {
      "byteLimit": 2048000,
      "rowLimit": 10000
     },
     "inputWidgets": {},
     "nuid": "02ff0121-455a-44d2-bea1-bf9c3685fd96",
     "showTitle": false,
     "tableResultSettingsMap": {},
     "title": ""
    }
   },
   "outputs": [],
   "source": [
    "# Step 1: Clean the data\n",
    "total_records = df_main.count()\n",
    "df_clean = df_main.dropna(subset=[\"Rep_ID\", \"Patient_Zip\"])\n",
    "valid_records = df_clean.count()\n",
    "\n",
    "# Step 2: Create a DataFrame for metrics\n",
    "\n",
    "metrics_df = spark.createDataFrame(\n",
    "    [\n",
    "        {\n",
    "            \"Metric_Timestamp\": datetime.now(),\n",
    "            \"Total_Records\": total_records,\n",
    "            \"Valid_Records\": valid_records,        \n",
    "        }\n",
    "    ]\n",
    ")\n",
    "# Step 3: Calculate metrics and addinto Dataframe\n",
    "\n",
    "metrics_df= metrics_df.withColumn(\"dropped_records\", col('total_records') - col('valid_records')).withColumn(\n",
    "       \"Claim_Completion_Rate\", \n",
    "    round(col(\"Valid_Records\") / col(\"Total_Records\"), 4)\n",
    "\n",
    ")\n",
    "\n",
    "# Step 4: Write metrics to Delta table\n",
    "metrics_df.write.mode(\"append\").format(\"delta\").saveAsTable(\n",
    "    \"`Pharma_Claim_Craft`.Claim_craft_Audit.claim_quality_metrics\"\n",
    ")"
   ]
  },
  {
   "cell_type": "code",
   "execution_count": 0,
   "metadata": {
    "application/vnd.databricks.v1+cell": {
     "cellMetadata": {
      "byteLimit": 2048000,
      "rowLimit": 10000
     },
     "inputWidgets": {},
     "nuid": "5aa08210-2de4-44ec-a2a3-bab775356e09",
     "showTitle": false,
     "tableResultSettingsMap": {},
     "title": ""
    }
   },
   "outputs": [],
   "source": [
    "metrics_df.display()"
   ]
  },
  {
   "cell_type": "code",
   "execution_count": 0,
   "metadata": {
    "application/vnd.databricks.v1+cell": {
     "cellMetadata": {
      "byteLimit": 2048000,
      "rowLimit": 10000
     },
     "inputWidgets": {},
     "nuid": "80eb5980-8187-43fa-84aa-112f586b2cc8",
     "showTitle": false,
     "tableResultSettingsMap": {},
     "title": ""
    }
   },
   "outputs": [],
   "source": [
    "df_clean.display()"
   ]
  },
  {
   "cell_type": "markdown",
   "metadata": {
    "application/vnd.databricks.v1+cell": {
     "cellMetadata": {},
     "inputWidgets": {},
     "nuid": "79cf31da-322b-4c96-9f08-c32847347f38",
     "showTitle": false,
     "tableResultSettingsMap": {},
     "title": ""
    }
   },
   "source": [
    "#### Data Writing in Silver Container(ADLS) "
   ]
  },
  {
   "cell_type": "code",
   "execution_count": 0,
   "metadata": {
    "application/vnd.databricks.v1+cell": {
     "cellMetadata": {
      "byteLimit": 2048000,
      "rowLimit": 10000
     },
     "inputWidgets": {},
     "nuid": "d5691d2e-62c7-4c54-b05e-b7c7168905cf",
     "showTitle": false,
     "tableResultSettingsMap": {},
     "title": ""
    }
   },
   "outputs": [],
   "source": [
    "df_clean.write.format(\"parquet\").mode(\"overwrite\").option('path','abfss://silver@claimcraftadls.dfs.core.windows.net/Claimcraft_Cleaned_data').save()\n"
   ]
  },
  {
   "cell_type": "code",
   "execution_count": 0,
   "metadata": {
    "application/vnd.databricks.v1+cell": {
     "cellMetadata": {
      "byteLimit": 2048000,
      "rowLimit": 10000
     },
     "inputWidgets": {},
     "nuid": "875aaa64-26a5-4f2a-a600-a5a81016b6f5",
     "showTitle": false,
     "tableResultSettingsMap": {},
     "title": ""
    }
   },
   "outputs": [],
   "source": [
    "df_test_silver= spark.read.format(\"parquet\").load(\n",
    "    'abfss://silver@claimcraftadls.dfs.core.windows.net/Claimcraft_Cleaned_data'\n",
    ")"
   ]
  },
  {
   "cell_type": "code",
   "execution_count": 0,
   "metadata": {
    "application/vnd.databricks.v1+cell": {
     "cellMetadata": {
      "byteLimit": 2048000,
      "rowLimit": 10000
     },
     "inputWidgets": {},
     "nuid": "69c91c50-8f1f-4b8e-8921-9300ee99b13a",
     "showTitle": false,
     "tableResultSettingsMap": {},
     "title": ""
    }
   },
   "outputs": [],
   "source": [
    "df_test_silver.display()"
   ]
  },
  {
   "cell_type": "markdown",
   "metadata": {
    "application/vnd.databricks.v1+cell": {
     "cellMetadata": {},
     "inputWidgets": {},
     "nuid": "f9f15721-993b-40a8-b20d-f4d215c7b121",
     "showTitle": false,
     "tableResultSettingsMap": {},
     "title": ""
    }
   },
   "source": [
    "#### Write the Cleaned datainto silver Table"
   ]
  },
  {
   "cell_type": "code",
   "execution_count": 0,
   "metadata": {
    "application/vnd.databricks.v1+cell": {
     "cellMetadata": {
      "byteLimit": 2048000,
      "rowLimit": 10000
     },
     "inputWidgets": {},
     "nuid": "e61b5af4-408c-46a6-a4af-292fc4981948",
     "showTitle": false,
     "tableResultSettingsMap": {},
     "title": ""
    }
   },
   "outputs": [],
   "source": [
    "df_clean.write.mode(\"overwrite\").format(\"delta\").saveAsTable(\"Pharma_Claim_Craft.Claim_craft_Silver.Claimcraft_Cleaned_data\")"
   ]
  },
  {
   "cell_type": "code",
   "execution_count": 0,
   "metadata": {
    "application/vnd.databricks.v1+cell": {
     "cellMetadata": {
      "byteLimit": 2048000,
      "implicitDf": true,
      "rowLimit": 10000
     },
     "inputWidgets": {},
     "nuid": "76813f7f-5a1c-483b-a808-f27b94968dbd",
     "showTitle": false,
     "tableResultSettingsMap": {},
     "title": ""
    }
   },
   "outputs": [],
   "source": [
    "%sql\n",
    "select * from `Pharma_Claim_Craft`.claim_craft_silver.claimcraft_cleaned_data"
   ]
  }
 ],
 "metadata": {
  "application/vnd.databricks.v1+notebook": {
   "computePreferences": null,
   "dashboards": [],
   "environmentMetadata": {
    "base_environment": "",
    "environment_version": "2"
   },
   "inputWidgetPreferences": null,
   "language": "python",
   "notebookMetadata": {
    "mostRecentlyExecutedCommandWithImplicitDF": {
     "commandId": 8182203715012862,
     "dataframes": [
      "_sqldf"
     ]
    },
    "pythonIndentUnit": 4
   },
   "notebookName": "Claim_Craft_Silver_Layer",
   "widgets": {}
  },
  "language_info": {
   "name": "python"
  }
 },
 "nbformat": 4,
 "nbformat_minor": 0
}
